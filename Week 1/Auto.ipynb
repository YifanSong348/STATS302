{
  "nbformat": 4,
  "nbformat_minor": 0,
  "metadata": {
    "colab": {
      "name": "Auto.ipynb",
      "provenance": [],
      "collapsed_sections": [],
      "authorship_tag": "ABX9TyMKpTfGHBP+JU2SXfIB7aI4",
      "include_colab_link": true
    },
    "kernelspec": {
      "name": "python3",
      "display_name": "Python 3"
    },
    "language_info": {
      "name": "python"
    }
  },
  "cells": [
    {
      "cell_type": "markdown",
      "metadata": {
        "id": "view-in-github",
        "colab_type": "text"
      },
      "source": [
        "<a href=\"https://colab.research.google.com/github/YifanSong348/STATS302/blob/main/Week1/Auto.ipynb\" target=\"_parent\"><img src=\"https://colab.research.google.com/assets/colab-badge.svg\" alt=\"Open In Colab\"/></a>"
      ]
    },
    {
      "cell_type": "markdown",
      "metadata": {
        "id": "Y3v8pu9ifN8a"
      },
      "source": [
        "#STATS302 HW 1\n",
        "###Problem 4. Programming"
      ]
    },
    {
      "cell_type": "code",
      "metadata": {
        "id": "fIsslb8YINKh",
        "colab": {
          "base_uri": "https://localhost:8080/"
        },
        "outputId": "26897e1e-968c-4656-dd28-67c0803861cd"
      },
      "source": [
        "import pandas as pd \n",
        "import numpy as np\n",
        "from sklearn.linear_model import LinearRegression\n",
        "from sklearn.preprocessing import PolynomialFeatures\n",
        "from sklearn import linear_model\n",
        "from sklearn import metrics \n",
        "import statsmodels.formula.api as smf\n",
        "import matplotlib.pyplot as plt\n",
        "import seaborn as sns"
      ],
      "execution_count": null,
      "outputs": [
        {
          "output_type": "stream",
          "text": [
            "/usr/local/lib/python3.7/dist-packages/statsmodels/tools/_testing.py:19: FutureWarning: pandas.util.testing is deprecated. Use the functions in the public API at pandas.testing instead.\n",
            "  import pandas.util.testing as tm\n"
          ],
          "name": "stderr"
        }
      ]
    },
    {
      "cell_type": "code",
      "metadata": {
        "id": "qTM-a9GZIWRL"
      },
      "source": [
        "# show all columns\n",
        "pd.set_option('display.max_columns', None)\n",
        "pd.set_option('display.max_rows', None)"
      ],
      "execution_count": null,
      "outputs": []
    },
    {
      "cell_type": "code",
      "metadata": {
        "colab": {
          "base_uri": "https://localhost:8080/",
          "height": 204
        },
        "id": "NZmqOZrk-_M7",
        "outputId": "07fc2390-5153-4b91-d973-0b4de33453b2"
      },
      "source": [
        "# import dataset\n",
        "df_Auto=pd.read_csv('https://raw.githubusercontent.com/YifanSong348/STATS302/main/Week%201/Auto.csv')\n",
        "df_Auto.head()"
      ],
      "execution_count": null,
      "outputs": [
        {
          "output_type": "execute_result",
          "data": {
            "text/html": [
              "<div>\n",
              "<style scoped>\n",
              "    .dataframe tbody tr th:only-of-type {\n",
              "        vertical-align: middle;\n",
              "    }\n",
              "\n",
              "    .dataframe tbody tr th {\n",
              "        vertical-align: top;\n",
              "    }\n",
              "\n",
              "    .dataframe thead th {\n",
              "        text-align: right;\n",
              "    }\n",
              "</style>\n",
              "<table border=\"1\" class=\"dataframe\">\n",
              "  <thead>\n",
              "    <tr style=\"text-align: right;\">\n",
              "      <th></th>\n",
              "      <th>mpg</th>\n",
              "      <th>cylinders</th>\n",
              "      <th>displacement</th>\n",
              "      <th>horsepower</th>\n",
              "      <th>weight</th>\n",
              "      <th>acceleration</th>\n",
              "      <th>year</th>\n",
              "      <th>origin</th>\n",
              "      <th>name</th>\n",
              "    </tr>\n",
              "  </thead>\n",
              "  <tbody>\n",
              "    <tr>\n",
              "      <th>0</th>\n",
              "      <td>18.0</td>\n",
              "      <td>8</td>\n",
              "      <td>307.0</td>\n",
              "      <td>130</td>\n",
              "      <td>3504</td>\n",
              "      <td>12.0</td>\n",
              "      <td>70</td>\n",
              "      <td>1</td>\n",
              "      <td>chevrolet chevelle malibu</td>\n",
              "    </tr>\n",
              "    <tr>\n",
              "      <th>1</th>\n",
              "      <td>15.0</td>\n",
              "      <td>8</td>\n",
              "      <td>350.0</td>\n",
              "      <td>165</td>\n",
              "      <td>3693</td>\n",
              "      <td>11.5</td>\n",
              "      <td>70</td>\n",
              "      <td>1</td>\n",
              "      <td>buick skylark 320</td>\n",
              "    </tr>\n",
              "    <tr>\n",
              "      <th>2</th>\n",
              "      <td>18.0</td>\n",
              "      <td>8</td>\n",
              "      <td>318.0</td>\n",
              "      <td>150</td>\n",
              "      <td>3436</td>\n",
              "      <td>11.0</td>\n",
              "      <td>70</td>\n",
              "      <td>1</td>\n",
              "      <td>plymouth satellite</td>\n",
              "    </tr>\n",
              "    <tr>\n",
              "      <th>3</th>\n",
              "      <td>16.0</td>\n",
              "      <td>8</td>\n",
              "      <td>304.0</td>\n",
              "      <td>150</td>\n",
              "      <td>3433</td>\n",
              "      <td>12.0</td>\n",
              "      <td>70</td>\n",
              "      <td>1</td>\n",
              "      <td>amc rebel sst</td>\n",
              "    </tr>\n",
              "    <tr>\n",
              "      <th>4</th>\n",
              "      <td>17.0</td>\n",
              "      <td>8</td>\n",
              "      <td>302.0</td>\n",
              "      <td>140</td>\n",
              "      <td>3449</td>\n",
              "      <td>10.5</td>\n",
              "      <td>70</td>\n",
              "      <td>1</td>\n",
              "      <td>ford torino</td>\n",
              "    </tr>\n",
              "  </tbody>\n",
              "</table>\n",
              "</div>"
            ],
            "text/plain": [
              "    mpg  cylinders  displacement horsepower  weight  acceleration  year  \\\n",
              "0  18.0          8         307.0        130    3504          12.0    70   \n",
              "1  15.0          8         350.0        165    3693          11.5    70   \n",
              "2  18.0          8         318.0        150    3436          11.0    70   \n",
              "3  16.0          8         304.0        150    3433          12.0    70   \n",
              "4  17.0          8         302.0        140    3449          10.5    70   \n",
              "\n",
              "   origin                       name  \n",
              "0       1  chevrolet chevelle malibu  \n",
              "1       1          buick skylark 320  \n",
              "2       1         plymouth satellite  \n",
              "3       1              amc rebel sst  \n",
              "4       1                ford torino  "
            ]
          },
          "metadata": {
            "tags": []
          },
          "execution_count": 3
        }
      ]
    },
    {
      "cell_type": "code",
      "metadata": {
        "colab": {
          "base_uri": "https://localhost:8080/",
          "height": 297
        },
        "id": "ESyEreVpNTz1",
        "outputId": "8dfab621-4475-4886-ea5f-5a5b85ba02f5"
      },
      "source": [
        "df_Auto.describe()"
      ],
      "execution_count": null,
      "outputs": [
        {
          "output_type": "execute_result",
          "data": {
            "text/html": [
              "<div>\n",
              "<style scoped>\n",
              "    .dataframe tbody tr th:only-of-type {\n",
              "        vertical-align: middle;\n",
              "    }\n",
              "\n",
              "    .dataframe tbody tr th {\n",
              "        vertical-align: top;\n",
              "    }\n",
              "\n",
              "    .dataframe thead th {\n",
              "        text-align: right;\n",
              "    }\n",
              "</style>\n",
              "<table border=\"1\" class=\"dataframe\">\n",
              "  <thead>\n",
              "    <tr style=\"text-align: right;\">\n",
              "      <th></th>\n",
              "      <th>mpg</th>\n",
              "      <th>cylinders</th>\n",
              "      <th>displacement</th>\n",
              "      <th>weight</th>\n",
              "      <th>acceleration</th>\n",
              "      <th>year</th>\n",
              "      <th>origin</th>\n",
              "    </tr>\n",
              "  </thead>\n",
              "  <tbody>\n",
              "    <tr>\n",
              "      <th>count</th>\n",
              "      <td>397.000000</td>\n",
              "      <td>397.000000</td>\n",
              "      <td>397.000000</td>\n",
              "      <td>397.000000</td>\n",
              "      <td>397.000000</td>\n",
              "      <td>397.000000</td>\n",
              "      <td>397.000000</td>\n",
              "    </tr>\n",
              "    <tr>\n",
              "      <th>mean</th>\n",
              "      <td>23.515869</td>\n",
              "      <td>5.458438</td>\n",
              "      <td>193.532746</td>\n",
              "      <td>2970.261965</td>\n",
              "      <td>15.555668</td>\n",
              "      <td>75.994962</td>\n",
              "      <td>1.574307</td>\n",
              "    </tr>\n",
              "    <tr>\n",
              "      <th>std</th>\n",
              "      <td>7.825804</td>\n",
              "      <td>1.701577</td>\n",
              "      <td>104.379583</td>\n",
              "      <td>847.904119</td>\n",
              "      <td>2.749995</td>\n",
              "      <td>3.690005</td>\n",
              "      <td>0.802549</td>\n",
              "    </tr>\n",
              "    <tr>\n",
              "      <th>min</th>\n",
              "      <td>9.000000</td>\n",
              "      <td>3.000000</td>\n",
              "      <td>68.000000</td>\n",
              "      <td>1613.000000</td>\n",
              "      <td>8.000000</td>\n",
              "      <td>70.000000</td>\n",
              "      <td>1.000000</td>\n",
              "    </tr>\n",
              "    <tr>\n",
              "      <th>25%</th>\n",
              "      <td>17.500000</td>\n",
              "      <td>4.000000</td>\n",
              "      <td>104.000000</td>\n",
              "      <td>2223.000000</td>\n",
              "      <td>13.800000</td>\n",
              "      <td>73.000000</td>\n",
              "      <td>1.000000</td>\n",
              "    </tr>\n",
              "    <tr>\n",
              "      <th>50%</th>\n",
              "      <td>23.000000</td>\n",
              "      <td>4.000000</td>\n",
              "      <td>146.000000</td>\n",
              "      <td>2800.000000</td>\n",
              "      <td>15.500000</td>\n",
              "      <td>76.000000</td>\n",
              "      <td>1.000000</td>\n",
              "    </tr>\n",
              "    <tr>\n",
              "      <th>75%</th>\n",
              "      <td>29.000000</td>\n",
              "      <td>8.000000</td>\n",
              "      <td>262.000000</td>\n",
              "      <td>3609.000000</td>\n",
              "      <td>17.100000</td>\n",
              "      <td>79.000000</td>\n",
              "      <td>2.000000</td>\n",
              "    </tr>\n",
              "    <tr>\n",
              "      <th>max</th>\n",
              "      <td>46.600000</td>\n",
              "      <td>8.000000</td>\n",
              "      <td>455.000000</td>\n",
              "      <td>5140.000000</td>\n",
              "      <td>24.800000</td>\n",
              "      <td>82.000000</td>\n",
              "      <td>3.000000</td>\n",
              "    </tr>\n",
              "  </tbody>\n",
              "</table>\n",
              "</div>"
            ],
            "text/plain": [
              "              mpg   cylinders  displacement       weight  acceleration  \\\n",
              "count  397.000000  397.000000    397.000000   397.000000    397.000000   \n",
              "mean    23.515869    5.458438    193.532746  2970.261965     15.555668   \n",
              "std      7.825804    1.701577    104.379583   847.904119      2.749995   \n",
              "min      9.000000    3.000000     68.000000  1613.000000      8.000000   \n",
              "25%     17.500000    4.000000    104.000000  2223.000000     13.800000   \n",
              "50%     23.000000    4.000000    146.000000  2800.000000     15.500000   \n",
              "75%     29.000000    8.000000    262.000000  3609.000000     17.100000   \n",
              "max     46.600000    8.000000    455.000000  5140.000000     24.800000   \n",
              "\n",
              "             year      origin  \n",
              "count  397.000000  397.000000  \n",
              "mean    75.994962    1.574307  \n",
              "std      3.690005    0.802549  \n",
              "min     70.000000    1.000000  \n",
              "25%     73.000000    1.000000  \n",
              "50%     76.000000    1.000000  \n",
              "75%     79.000000    2.000000  \n",
              "max     82.000000    3.000000  "
            ]
          },
          "metadata": {
            "tags": []
          },
          "execution_count": 4
        }
      ]
    },
    {
      "cell_type": "code",
      "metadata": {
        "colab": {
          "base_uri": "https://localhost:8080/"
        },
        "id": "mJrLG6DZZvZz",
        "outputId": "8744c739-d591-46a1-eb3e-dff1cd67678b"
      },
      "source": [
        "df_Auto.columns"
      ],
      "execution_count": null,
      "outputs": [
        {
          "output_type": "execute_result",
          "data": {
            "text/plain": [
              "Index(['mpg', 'cylinders', 'displacement', 'horsepower', 'weight',\n",
              "       'acceleration', 'year', 'origin', 'name'],\n",
              "      dtype='object')"
            ]
          },
          "metadata": {
            "tags": []
          },
          "execution_count": 5
        }
      ]
    },
    {
      "cell_type": "code",
      "metadata": {
        "colab": {
          "base_uri": "https://localhost:8080/"
        },
        "id": "CWV8T2sNCNjW",
        "outputId": "9fbfefea-58c2-495c-9a29-142c3b066e4e"
      },
      "source": [
        "df_Auto.dtypes"
      ],
      "execution_count": null,
      "outputs": [
        {
          "output_type": "execute_result",
          "data": {
            "text/plain": [
              "mpg             float64\n",
              "cylinders         int64\n",
              "displacement    float64\n",
              "horsepower       object\n",
              "weight            int64\n",
              "acceleration    float64\n",
              "year              int64\n",
              "origin            int64\n",
              "name             object\n",
              "dtype: object"
            ]
          },
          "metadata": {
            "tags": []
          },
          "execution_count": 6
        }
      ]
    },
    {
      "cell_type": "markdown",
      "metadata": {
        "id": "WTUJerds_xe5"
      },
      "source": [
        "# a."
      ]
    },
    {
      "cell_type": "code",
      "metadata": {
        "id": "7LArbmRtE8a2"
      },
      "source": [
        "# data wrangling\n",
        "df_Auto_new = df_Auto.drop([32, 126, 330, 336, 354])\n",
        "df_Auto_new['mpg'] = df_Auto.mpg.astype(float)\n",
        "df_Auto_new['horsepower'] = df_Auto_new.horsepower.astype(float)"
      ],
      "execution_count": null,
      "outputs": []
    },
    {
      "cell_type": "markdown",
      "metadata": {
        "id": "n7j24Z9f_hI8"
      },
      "source": [
        "Simple linear regression result"
      ]
    },
    {
      "cell_type": "code",
      "metadata": {
        "colab": {
          "base_uri": "https://localhost:8080/"
        },
        "id": "E-QPudM3LGPO",
        "outputId": "6d7ed81a-6f7d-4cdd-9d63-cae0f5d62061"
      },
      "source": [
        "# est = smf.ols(y~x, data)\n",
        "est = smf.ols('mpg~horsepower', data = df_Auto_new).fit()\n",
        "print(est.summary())"
      ],
      "execution_count": null,
      "outputs": [
        {
          "output_type": "stream",
          "text": [
            "                            OLS Regression Results                            \n",
            "==============================================================================\n",
            "Dep. Variable:                    mpg   R-squared:                       0.606\n",
            "Model:                            OLS   Adj. R-squared:                  0.605\n",
            "Method:                 Least Squares   F-statistic:                     599.7\n",
            "Date:                Thu, 01 Apr 2021   Prob (F-statistic):           7.03e-81\n",
            "Time:                        11:57:59   Log-Likelihood:                -1178.7\n",
            "No. Observations:                 392   AIC:                             2361.\n",
            "Df Residuals:                     390   BIC:                             2369.\n",
            "Df Model:                           1                                         \n",
            "Covariance Type:            nonrobust                                         \n",
            "==============================================================================\n",
            "                 coef    std err          t      P>|t|      [0.025      0.975]\n",
            "------------------------------------------------------------------------------\n",
            "Intercept     39.9359      0.717     55.660      0.000      38.525      41.347\n",
            "horsepower    -0.1578      0.006    -24.489      0.000      -0.171      -0.145\n",
            "==============================================================================\n",
            "Omnibus:                       16.432   Durbin-Watson:                   0.920\n",
            "Prob(Omnibus):                  0.000   Jarque-Bera (JB):               17.305\n",
            "Skew:                           0.492   Prob(JB):                     0.000175\n",
            "Kurtosis:                       3.299   Cond. No.                         322.\n",
            "==============================================================================\n",
            "\n",
            "Warnings:\n",
            "[1] Standard Errors assume that the covariance matrix of the errors is correctly specified.\n"
          ],
          "name": "stdout"
        }
      ]
    },
    {
      "cell_type": "markdown",
      "metadata": {
        "id": "bXyykBx9ym9O"
      },
      "source": [
        "**a. i. Is there a relationship between the predictor and the response ?**\n",
        "\n",
        "Yes, there is a relationship between horsepower and mpg as we can test the null hypothesis H0:βi=0 ∀i, i.e all regression coefficients are equal to zero. Since the F-statistic is far larger than 1 (599.7) and the p-value of the F-statistic is close to zero (7.03e-81), we can reject the null hypothesis and state there is a statistically significant relationship between horsepower and mpg.\n"
      ]
    },
    {
      "cell_type": "markdown",
      "metadata": {
        "id": "J8E42DIV0RLQ"
      },
      "source": [
        "**a. ii. How strong is the relationship between the predictor and the response ?**\n",
        "\n",
        "The R-squared is equal to 0.606, which means almost 60.6% of the variability in “mpg” can be explained using “horsepower”."
      ]
    },
    {
      "cell_type": "markdown",
      "metadata": {
        "id": "t-do135c8tmV"
      },
      "source": [
        "**a. iii. Is the relationship between the predictor and the response positive or negative ?**\n",
        "\n",
        "As the coefficient of “horsepower” is negative (-0.1578), the relationship  between mpg and horsepower is negative. The more horsepower an automobile has, the linear regression indicates the less mpg fuel efficiency the automobile will have.\n"
      ]
    },
    {
      "cell_type": "code",
      "metadata": {
        "colab": {
          "base_uri": "https://localhost:8080/"
        },
        "id": "jXrK5dtMXepH",
        "outputId": "301b95f6-ac02-4267-8d51-03e15ea57d35"
      },
      "source": [
        "reg = LinearRegression()\n",
        "reg.fit(df_Auto_new[[\"horsepower\"]], df_Auto_new[\"mpg\"])\n",
        "yfit = reg.intercept_ + reg.coef_*98\n",
        "print(yfit)"
      ],
      "execution_count": null,
      "outputs": [
        {
          "output_type": "stream",
          "text": [
            "[24.46707715]\n"
          ],
          "name": "stdout"
        }
      ]
    },
    {
      "cell_type": "markdown",
      "metadata": {
        "id": "jnPFPC5J80K1"
      },
      "source": [
        "**a. iv. What is the predicted mpg associated with a “horsepower” of 98 ? What are the associated 95% confidence and prediction intervals ?**\n",
        "Predicted mpg associated with a “horsepower” of 98 is 24.46707715."
      ]
    },
    {
      "cell_type": "markdown",
      "metadata": {
        "id": "kDgAYnhp8Jqq"
      },
      "source": [
        "# b."
      ]
    },
    {
      "cell_type": "markdown",
      "metadata": {
        "id": "PVZPZKVA-51o"
      },
      "source": [
        "**Approach 1**"
      ]
    },
    {
      "cell_type": "code",
      "metadata": {
        "colab": {
          "base_uri": "https://localhost:8080/",
          "height": 389
        },
        "id": "KQ2mF_5iyq7L",
        "outputId": "afba6baa-de98-4305-94b8-c6a63775ad77"
      },
      "source": [
        "sns.scatterplot(df_Auto_new['horsepower'], df_Auto_new['mpg'])\n",
        "sns.lineplot(df_Auto_new['horsepower'], est.fittedvalues, color = 'red')\n",
        "# plt.abline(y = 0, linewidth = 0.5, linestyle = 'dashed', color = 'red')"
      ],
      "execution_count": null,
      "outputs": [
        {
          "output_type": "stream",
          "text": [
            "/usr/local/lib/python3.7/dist-packages/seaborn/_decorators.py:43: FutureWarning: Pass the following variables as keyword args: x, y. From version 0.12, the only valid positional argument will be `data`, and passing other arguments without an explicit keyword will result in an error or misinterpretation.\n",
            "  FutureWarning\n",
            "/usr/local/lib/python3.7/dist-packages/seaborn/_decorators.py:43: FutureWarning: Pass the following variables as keyword args: x, y. From version 0.12, the only valid positional argument will be `data`, and passing other arguments without an explicit keyword will result in an error or misinterpretation.\n",
            "  FutureWarning\n"
          ],
          "name": "stderr"
        },
        {
          "output_type": "execute_result",
          "data": {
            "text/plain": [
              "<matplotlib.axes._subplots.AxesSubplot at 0x7fd694b6a3d0>"
            ]
          },
          "metadata": {
            "tags": []
          },
          "execution_count": 9
        },
        {
          "output_type": "display_data",
          "data": {
            "image/png": "[encoded data removed]",
            "text/plain": [
              "<Figure size 432x288 with 1 Axes>"
            ]
          },
          "metadata": {
            "tags": [],
            "needs_background": "light"
          }
        }
      ]
    },
    {
      "cell_type": "markdown",
      "metadata": {
        "id": "SI0XWCm777sS"
      },
      "source": [
        "#### **Approach 2**"
      ]
    },
    {
      "cell_type": "markdown",
      "metadata": {
        "id": "gbiOaqm62wQZ"
      },
      "source": [
        "#### Simple Linear Regression"
      ]
    },
    {
      "cell_type": "code",
      "metadata": {
        "id": "VngJPNvF2yv7"
      },
      "source": [
        "df_Auto_new['mpg'] = df_Auto.mpg.astype(float)\n",
        "df_Auto_new['horsepower'] = df_Auto_new.horsepower.astype(float)\n",
        "X = df_Auto_new[[\"horsepower\"]]\n",
        "y = df_Auto_new[\"mpg\"]"
      ],
      "execution_count": null,
      "outputs": []
    },
    {
      "cell_type": "code",
      "metadata": {
        "id": "zDVSWxGU3yD0",
        "colab": {
          "base_uri": "https://localhost:8080/"
        },
        "outputId": "f1c4bcca-4a19-437d-c3c4-29cdc8f07125"
      },
      "source": [
        "# define a regressor\n",
        "reg = LinearRegression()\n",
        "reg.fit(X,y)"
      ],
      "execution_count": null,
      "outputs": [
        {
          "output_type": "execute_result",
          "data": {
            "text/plain": [
              "LinearRegression(copy_X=True, fit_intercept=True, n_jobs=None, normalize=False)"
            ]
          },
          "metadata": {
            "tags": []
          },
          "execution_count": 11
        }
      ]
    },
    {
      "cell_type": "code",
      "metadata": {
        "id": "H2LXU4hv30G5",
        "colab": {
          "base_uri": "https://localhost:8080/"
        },
        "outputId": "8194d07b-81c7-47ab-edbf-b2152bb60d3c"
      },
      "source": [
        "# calculate beta_1\n",
        "print(\"Beta_1 = \", reg.coef_)"
      ],
      "execution_count": null,
      "outputs": [
        {
          "output_type": "stream",
          "text": [
            "Beta_1 =  [-0.15784473]\n"
          ],
          "name": "stdout"
        }
      ]
    },
    {
      "cell_type": "code",
      "metadata": {
        "id": "6TGFhjFj35bt",
        "colab": {
          "base_uri": "https://localhost:8080/"
        },
        "outputId": "3245ff71-7207-420e-84f2-db734b821156"
      },
      "source": [
        "# calculate beta_1\n",
        "print(\"Beta_0 = \", reg.intercept_)"
      ],
      "execution_count": null,
      "outputs": [
        {
          "output_type": "stream",
          "text": [
            "Beta_0 =  39.93586102117047\n"
          ],
          "name": "stdout"
        }
      ]
    },
    {
      "cell_type": "code",
      "metadata": {
        "colab": {
          "base_uri": "https://localhost:8080/",
          "height": 389
        },
        "id": "8QWoNdqUtij6",
        "outputId": "5902d195-82e4-4691-c790-a1d3909d7960"
      },
      "source": [
        "sns.scatterplot(df_Auto_new['horsepower'], df_Auto_new['mpg'])\n",
        "df_Auto_new['mpg'] = df_Auto_new.mpg.astype(float)\n",
        "df_Auto_new['horsepower'] = df_Auto_new.horsepower.astype(float)\n",
        "yfit = reg.intercept_ + reg.coef_*df_Auto_new['horsepower']\n",
        "sns.lineplot(df_Auto_new['horsepower'], yfit, color = 'red')"
      ],
      "execution_count": null,
      "outputs": [
        {
          "output_type": "stream",
          "text": [
            "/usr/local/lib/python3.7/dist-packages/seaborn/_decorators.py:43: FutureWarning: Pass the following variables as keyword args: x, y. From version 0.12, the only valid positional argument will be `data`, and passing other arguments without an explicit keyword will result in an error or misinterpretation.\n",
            "  FutureWarning\n",
            "/usr/local/lib/python3.7/dist-packages/seaborn/_decorators.py:43: FutureWarning: Pass the following variables as keyword args: x, y. From version 0.12, the only valid positional argument will be `data`, and passing other arguments without an explicit keyword will result in an error or misinterpretation.\n",
            "  FutureWarning\n"
          ],
          "name": "stderr"
        },
        {
          "output_type": "execute_result",
          "data": {
            "text/plain": [
              "<matplotlib.axes._subplots.AxesSubplot at 0x7fd673335350>"
            ]
          },
          "metadata": {
            "tags": []
          },
          "execution_count": 14
        },
        {
          "output_type": "display_data",
          "data": {
            "image/png": "[encoded data removed]",
            "text/plain": [
              "<Figure size 432x288 with 1 Axes>"
            ]
          },
          "metadata": {
            "tags": [],
            "needs_background": "light"
          }
        }
      ]
    },
    {
      "cell_type": "markdown",
      "metadata": {
        "id": "zhklfXlJAke1"
      },
      "source": [
        "**Approach 3**"
      ]
    },
    {
      "cell_type": "code",
      "metadata": {
        "colab": {
          "base_uri": "https://localhost:8080/",
          "height": 353
        },
        "id": "0uiCH5NfAehG",
        "outputId": "1eac9c8d-8a6e-413e-db56-a21881595287"
      },
      "source": [
        "sns.regplot(df_Auto_new['horsepower'], df_Auto_new['mpg'])"
      ],
      "execution_count": null,
      "outputs": [
        {
          "output_type": "stream",
          "text": [
            "/usr/local/lib/python3.7/dist-packages/seaborn/_decorators.py:43: FutureWarning: Pass the following variables as keyword args: x, y. From version 0.12, the only valid positional argument will be `data`, and passing other arguments without an explicit keyword will result in an error or misinterpretation.\n",
            "  FutureWarning\n"
          ],
          "name": "stderr"
        },
        {
          "output_type": "execute_result",
          "data": {
            "text/plain": [
              "<matplotlib.axes._subplots.AxesSubplot at 0x7fd6737cf790>"
            ]
          },
          "metadata": {
            "tags": []
          },
          "execution_count": 15
        },
        {
          "output_type": "display_data",
          "data": {
            "image/png": "[encoded data removed]",
            "text/plain": [
              "<Figure size 432x288 with 1 Axes>"
            ]
          },
          "metadata": {
            "tags": [],
            "needs_background": "light"
          }
        }
      ]
    },
    {
      "cell_type": "markdown",
      "metadata": {
        "id": "sDRIYdTyCzul"
      },
      "source": [
        "# c."
      ]
    },
    {
      "cell_type": "code",
      "metadata": {
        "colab": {
          "base_uri": "https://localhost:8080/",
          "height": 369
        },
        "id": "lUhlW2cIpHIL",
        "outputId": "5b6e65f4-d4cd-4864-816b-a7dfb65b02c1"
      },
      "source": [
        "# dist of residuals\n",
        "# plt.ylim()\n",
        "a = sns.scatterplot(est.fittedvalues, est.resid)\n",
        "plt.axhline(y = 0, linewidth = 0.5, linestyle = 'dashed', color = 'red')\n",
        "a.set_title('Residuals vs. Fitted')\n",
        "plt.xlabel('Fitted Values')\n",
        "plt.ylabel('Residuals')"
      ],
      "execution_count": null,
      "outputs": [
        {
          "output_type": "stream",
          "text": [
            "/usr/local/lib/python3.7/dist-packages/seaborn/_decorators.py:43: FutureWarning: Pass the following variables as keyword args: x, y. From version 0.12, the only valid positional argument will be `data`, and passing other arguments without an explicit keyword will result in an error or misinterpretation.\n",
            "  FutureWarning\n"
          ],
          "name": "stderr"
        },
        {
          "output_type": "execute_result",
          "data": {
            "text/plain": [
              "Text(0, 0.5, 'Residuals')"
            ]
          },
          "metadata": {
            "tags": []
          },
          "execution_count": 16
        },
        {
          "output_type": "display_data",
          "data": {
            "image/png": "[encoded data removed]",
            "text/plain": [
              "<Figure size 432x288 with 1 Axes>"
            ]
          },
          "metadata": {
            "tags": [],
            "needs_background": "light"
          }
        }
      ]
    },
    {
      "cell_type": "markdown",
      "metadata": {
        "id": "cKlGHL3AFllx"
      },
      "source": [
        "The plot of residuals versus fitted values indicates the presence of non linearity in the data. Looking at the smoothing line of the residuals (ei=yi−yi^) vs the fitted values (yi^), there is a strong pattern in the residuals, indicating non-linearity. "
      ]
    }
  ]
}
