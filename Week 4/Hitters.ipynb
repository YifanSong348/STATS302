{
  "nbformat": 4,
  "nbformat_minor": 0,
  "metadata": {
    "colab": {
      "name": "Hitters.ipynb",
      "provenance": [],
      "collapsed_sections": [],
      "authorship_tag": "ABX9TyMbRoK/A/WKiTCcM/r1LUKy",
      "include_colab_link": true
    },
    "kernelspec": {
      "name": "python3",
      "display_name": "Python 3"
    },
    "language_info": {
      "name": "python"
    }
  },
  "cells": [
    {
      "cell_type": "markdown",
      "metadata": {
        "id": "view-in-github",
        "colab_type": "text"
      },
      "source": [
        "<a href=\"https://colab.research.google.com/github/YifanSong348/STATS302/blob/main/Week%204/Hitters.ipynb\" target=\"_parent\"><img src=\"https://colab.research.google.com/assets/colab-badge.svg\" alt=\"Open In Colab\"/></a>"
      ]
    },
    {
      "cell_type": "markdown",
      "metadata": {
        "id": "Y3v8pu9ifN8a"
      },
      "source": [
        "#STATS302 HW 4 - Yifan Song\n",
        "###Problem 1. Trees and forests\n",
        "[ISL] 8.4 - 10"
      ]
    },
    {
      "cell_type": "code",
      "metadata": {
        "id": "WtjAGMeGJkRJ",
        "colab": {
          "base_uri": "https://localhost:8080/"
        },
        "outputId": "52ca7b0d-6f0f-4510-ed1e-f168d2ff1278"
      },
      "source": [
        "import pandas as pd\n",
        "import numpy as np\n",
        "from google.colab import files\n",
        "import io\n",
        "\n",
        "import sklearn.linear_model as skl_lm\n",
        "from sklearn.preprocessing import StandardScaler\n",
        "from sklearn import metrics\n",
        "from sklearn import ensemble\n",
        "\n",
        "from sklearn.preprocessing import scale \n",
        "from sklearn.model_selection import train_test_split, GridSearchCV\n",
        "from sklearn.linear_model import LinearRegression, Ridge, RidgeCV, Lasso, LassoCV\n",
        "\n",
        "from sklearn.tree import DecisionTreeRegressor, DecisionTreeClassifier, export_graphviz\n",
        "from sklearn.ensemble import RandomForestRegressor, GradientBoostingRegressor, BaggingRegressor\n",
        "from sklearn.metrics import confusion_matrix, mean_squared_error\n",
        "\n",
        "import statsmodels.api as sm\n",
        "from statsmodels.api import OLS\n",
        "\n",
        "import matplotlib.pyplot as plt\n",
        "import seaborn as sns"
      ],
      "execution_count": 2,
      "outputs": [
        {
          "output_type": "stream",
          "text": [
            "/usr/local/lib/python3.7/dist-packages/statsmodels/tools/_testing.py:19: FutureWarning: pandas.util.testing is deprecated. Use the functions in the public API at pandas.testing instead.\n",
            "  import pandas.util.testing as tm\n"
          ],
          "name": "stderr"
        }
      ]
    },
    {
      "cell_type": "code",
      "metadata": {
        "colab": {
          "resources": {
            "http://localhost:8080/nbextensions/google.colab/files.js": {
              "data": "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",
              "ok": true,
              "headers": [
                [
                  "content-type",
                  "application/javascript"
                ]
              ],
              "status": 200,
              "status_text": ""
            }
          },
          "base_uri": "https://localhost:8080/",
          "height": 75
        },
        "id": "oL1fogJ72k7t",
        "outputId": "40bcd996-c418-4a3b-f72c-27db3678e8c0"
      },
      "source": [
        "# import dataset\n",
        "uploaded = files.upload()\n",
        "df = pd.read_csv(io.BytesIO(uploaded['Hitters.csv']))"
      ],
      "execution_count": 3,
      "outputs": [
        {
          "output_type": "display_data",
          "data": {
            "text/html": [
              "\n",
              "     <input type=\"file\" id=\"files-1e4191f5-953c-47b2-9ee6-adf82e9abfea\" name=\"files[]\" multiple disabled\n",
              "        style=\"border:none\" />\n",
              "     <output id=\"result-1e4191f5-953c-47b2-9ee6-adf82e9abfea\">\n",
              "      Upload widget is only available when the cell has been executed in the\n",
              "      current browser session. Please rerun this cell to enable.\n",
              "      </output>\n",
              "      <script src=\"/nbextensions/google.colab/files.js\"></script> "
            ],
            "text/plain": [
              "<IPython.core.display.HTML object>"
            ]
          },
          "metadata": {
            "tags": []
          }
        },
        {
          "output_type": "stream",
          "text": [
            "Saving Hitters.csv to Hitters.csv\n"
          ],
          "name": "stdout"
        }
      ]
    },
    {
      "cell_type": "code",
      "metadata": {
        "id": "0wcynLv26as_",
        "colab": {
          "base_uri": "https://localhost:8080/"
        },
        "outputId": "46e13d62-2514-4b39-8abe-78c60545e6c3"
      },
      "source": [
        "df = df.rename(columns={'Unnamed: 0': 'Name'})\n",
        "# df = data.drop(data.columns[0], axis=1)\n",
        "print(df.shape)\n",
        "print(df.head())\n",
        "print(df.columns)"
      ],
      "execution_count": 4,
      "outputs": [
        {
          "output_type": "stream",
          "text": [
            "(322, 21)\n",
            "                Name  AtBat  Hits  HmRun  ...  Assists  Errors  Salary  NewLeague\n",
            "0     -Andy Allanson    293    66      1  ...       33      20     NaN          A\n",
            "1        -Alan Ashby    315    81      7  ...       43      10   475.0          N\n",
            "2       -Alvin Davis    479   130     18  ...       82      14   480.0          A\n",
            "3      -Andre Dawson    496   141     20  ...       11       3   500.0          N\n",
            "4  -Andres Galarraga    321    87     10  ...       40       4    91.5          N\n",
            "\n",
            "[5 rows x 21 columns]\n",
            "Index(['Name', 'AtBat', 'Hits', 'HmRun', 'Runs', 'RBI', 'Walks', 'Years',\n",
            "       'CAtBat', 'CHits', 'CHmRun', 'CRuns', 'CRBI', 'CWalks', 'League',\n",
            "       'Division', 'PutOuts', 'Assists', 'Errors', 'Salary', 'NewLeague'],\n",
            "      dtype='object')\n"
          ],
          "name": "stdout"
        }
      ]
    },
    {
      "cell_type": "markdown",
      "metadata": {
        "id": "WTUJerds_xe5"
      },
      "source": [
        "# a.  Remove the observations for whom the salary information is unknown, and then log-transform the salaries."
      ]
    },
    {
      "cell_type": "markdown",
      "metadata": {
        "id": "PAsiz6g7owD3"
      },
      "source": [
        "\n",
        "\n",
        "> Remove NaN\n",
        "\n"
      ]
    },
    {
      "cell_type": "code",
      "metadata": {
        "colab": {
          "base_uri": "https://localhost:8080/"
        },
        "id": "WCXOzSe9ecgs",
        "outputId": "88acadc4-63b2-41ca-96d1-6ea912b397c4"
      },
      "source": [
        "print(\"Contents of the Dataframe : \")\n",
        "print(df)\n",
        "# Drop rows which contain any NaN value in the \"Salary\" column\n",
        "df = df.dropna(how='any', subset=['Salary'])\n",
        "print(\"Modified Dataframe : \")\n",
        "print(df)"
      ],
      "execution_count": 6,
      "outputs": [
        {
          "output_type": "stream",
          "text": [
            "Contents of the Dataframe : \n",
            "                  Name  AtBat  Hits  HmRun  ...  Assists  Errors  Salary  NewLeague\n",
            "0       -Andy Allanson    293    66      1  ...       33      20     NaN          A\n",
            "1          -Alan Ashby    315    81      7  ...       43      10   475.0          N\n",
            "2         -Alvin Davis    479   130     18  ...       82      14   480.0          A\n",
            "3        -Andre Dawson    496   141     20  ...       11       3   500.0          N\n",
            "4    -Andres Galarraga    321    87     10  ...       40       4    91.5          N\n",
            "..                 ...    ...   ...    ...  ...      ...     ...     ...        ...\n",
            "317      -Willie McGee    497   127      7  ...        9       3   700.0          N\n",
            "318   -Willie Randolph    492   136      5  ...      381      20   875.0          A\n",
            "319    -Wayne Tolleson    475   126      3  ...      113       7   385.0          A\n",
            "320     -Willie Upshaw    573   144      9  ...      131      12   960.0          A\n",
            "321     -Willie Wilson    631   170      9  ...        4       3  1000.0          A\n",
            "\n",
            "[322 rows x 21 columns]\n",
            "Modified Dataframe : \n",
            "                  Name  AtBat  Hits  HmRun  ...  Assists  Errors  Salary  NewLeague\n",
            "1          -Alan Ashby    315    81      7  ...       43      10   475.0          N\n",
            "2         -Alvin Davis    479   130     18  ...       82      14   480.0          A\n",
            "3        -Andre Dawson    496   141     20  ...       11       3   500.0          N\n",
            "4    -Andres Galarraga    321    87     10  ...       40       4    91.5          N\n",
            "5     -Alfredo Griffin    594   169      4  ...      421      25   750.0          A\n",
            "..                 ...    ...   ...    ...  ...      ...     ...     ...        ...\n",
            "317      -Willie McGee    497   127      7  ...        9       3   700.0          N\n",
            "318   -Willie Randolph    492   136      5  ...      381      20   875.0          A\n",
            "319    -Wayne Tolleson    475   126      3  ...      113       7   385.0          A\n",
            "320     -Willie Upshaw    573   144      9  ...      131      12   960.0          A\n",
            "321     -Willie Wilson    631   170      9  ...        4       3  1000.0          A\n",
            "\n",
            "[263 rows x 21 columns]\n"
          ],
          "name": "stdout"
        }
      ]
    },
    {
      "cell_type": "code",
      "metadata": {
        "colab": {
          "base_uri": "https://localhost:8080/",
          "height": 204
        },
        "id": "T2Pg_LCeF5IJ",
        "outputId": "7add75f7-4129-4442-cbc1-f5b2cab31af1"
      },
      "source": [
        "df['League'] = df['League'].map({'N': 1, 'A': 0})\n",
        "df['NewLeague'] = df['NewLeague'].map({'N': 1, 'A': 0})\n",
        "df['Division'] = df['Division'].map({'W': 1, 'E': 0})\n",
        "df.head()"
      ],
      "execution_count": 7,
      "outputs": [
        {
          "output_type": "execute_result",
          "data": {
            "text/html": [
              "<div>\n",
              "<style scoped>\n",
              "    .dataframe tbody tr th:only-of-type {\n",
              "        vertical-align: middle;\n",
              "    }\n",
              "\n",
              "    .dataframe tbody tr th {\n",
              "        vertical-align: top;\n",
              "    }\n",
              "\n",
              "    .dataframe thead th {\n",
              "        text-align: right;\n",
              "    }\n",
              "</style>\n",
              "<table border=\"1\" class=\"dataframe\">\n",
              "  <thead>\n",
              "    <tr style=\"text-align: right;\">\n",
              "      <th></th>\n",
              "      <th>Name</th>\n",
              "      <th>AtBat</th>\n",
              "      <th>Hits</th>\n",
              "      <th>HmRun</th>\n",
              "      <th>Runs</th>\n",
              "      <th>RBI</th>\n",
              "      <th>Walks</th>\n",
              "      <th>Years</th>\n",
              "      <th>CAtBat</th>\n",
              "      <th>CHits</th>\n",
              "      <th>CHmRun</th>\n",
              "      <th>CRuns</th>\n",
              "      <th>CRBI</th>\n",
              "      <th>CWalks</th>\n",
              "      <th>League</th>\n",
              "      <th>Division</th>\n",
              "      <th>PutOuts</th>\n",
              "      <th>Assists</th>\n",
              "      <th>Errors</th>\n",
              "      <th>Salary</th>\n",
              "      <th>NewLeague</th>\n",
              "    </tr>\n",
              "  </thead>\n",
              "  <tbody>\n",
              "    <tr>\n",
              "      <th>1</th>\n",
              "      <td>-Alan Ashby</td>\n",
              "      <td>315</td>\n",
              "      <td>81</td>\n",
              "      <td>7</td>\n",
              "      <td>24</td>\n",
              "      <td>38</td>\n",
              "      <td>39</td>\n",
              "      <td>14</td>\n",
              "      <td>3449</td>\n",
              "      <td>835</td>\n",
              "      <td>69</td>\n",
              "      <td>321</td>\n",
              "      <td>414</td>\n",
              "      <td>375</td>\n",
              "      <td>1</td>\n",
              "      <td>1</td>\n",
              "      <td>632</td>\n",
              "      <td>43</td>\n",
              "      <td>10</td>\n",
              "      <td>475.0</td>\n",
              "      <td>1</td>\n",
              "    </tr>\n",
              "    <tr>\n",
              "      <th>2</th>\n",
              "      <td>-Alvin Davis</td>\n",
              "      <td>479</td>\n",
              "      <td>130</td>\n",
              "      <td>18</td>\n",
              "      <td>66</td>\n",
              "      <td>72</td>\n",
              "      <td>76</td>\n",
              "      <td>3</td>\n",
              "      <td>1624</td>\n",
              "      <td>457</td>\n",
              "      <td>63</td>\n",
              "      <td>224</td>\n",
              "      <td>266</td>\n",
              "      <td>263</td>\n",
              "      <td>0</td>\n",
              "      <td>1</td>\n",
              "      <td>880</td>\n",
              "      <td>82</td>\n",
              "      <td>14</td>\n",
              "      <td>480.0</td>\n",
              "      <td>0</td>\n",
              "    </tr>\n",
              "    <tr>\n",
              "      <th>3</th>\n",
              "      <td>-Andre Dawson</td>\n",
              "      <td>496</td>\n",
              "      <td>141</td>\n",
              "      <td>20</td>\n",
              "      <td>65</td>\n",
              "      <td>78</td>\n",
              "      <td>37</td>\n",
              "      <td>11</td>\n",
              "      <td>5628</td>\n",
              "      <td>1575</td>\n",
              "      <td>225</td>\n",
              "      <td>828</td>\n",
              "      <td>838</td>\n",
              "      <td>354</td>\n",
              "      <td>1</td>\n",
              "      <td>0</td>\n",
              "      <td>200</td>\n",
              "      <td>11</td>\n",
              "      <td>3</td>\n",
              "      <td>500.0</td>\n",
              "      <td>1</td>\n",
              "    </tr>\n",
              "    <tr>\n",
              "      <th>4</th>\n",
              "      <td>-Andres Galarraga</td>\n",
              "      <td>321</td>\n",
              "      <td>87</td>\n",
              "      <td>10</td>\n",
              "      <td>39</td>\n",
              "      <td>42</td>\n",
              "      <td>30</td>\n",
              "      <td>2</td>\n",
              "      <td>396</td>\n",
              "      <td>101</td>\n",
              "      <td>12</td>\n",
              "      <td>48</td>\n",
              "      <td>46</td>\n",
              "      <td>33</td>\n",
              "      <td>1</td>\n",
              "      <td>0</td>\n",
              "      <td>805</td>\n",
              "      <td>40</td>\n",
              "      <td>4</td>\n",
              "      <td>91.5</td>\n",
              "      <td>1</td>\n",
              "    </tr>\n",
              "    <tr>\n",
              "      <th>5</th>\n",
              "      <td>-Alfredo Griffin</td>\n",
              "      <td>594</td>\n",
              "      <td>169</td>\n",
              "      <td>4</td>\n",
              "      <td>74</td>\n",
              "      <td>51</td>\n",
              "      <td>35</td>\n",
              "      <td>11</td>\n",
              "      <td>4408</td>\n",
              "      <td>1133</td>\n",
              "      <td>19</td>\n",
              "      <td>501</td>\n",
              "      <td>336</td>\n",
              "      <td>194</td>\n",
              "      <td>0</td>\n",
              "      <td>1</td>\n",
              "      <td>282</td>\n",
              "      <td>421</td>\n",
              "      <td>25</td>\n",
              "      <td>750.0</td>\n",
              "      <td>0</td>\n",
              "    </tr>\n",
              "  </tbody>\n",
              "</table>\n",
              "</div>"
            ],
            "text/plain": [
              "                Name  AtBat  Hits  HmRun  ...  Assists  Errors  Salary  NewLeague\n",
              "1        -Alan Ashby    315    81      7  ...       43      10   475.0          1\n",
              "2       -Alvin Davis    479   130     18  ...       82      14   480.0          0\n",
              "3      -Andre Dawson    496   141     20  ...       11       3   500.0          1\n",
              "4  -Andres Galarraga    321    87     10  ...       40       4    91.5          1\n",
              "5   -Alfredo Griffin    594   169      4  ...      421      25   750.0          0\n",
              "\n",
              "[5 rows x 21 columns]"
            ]
          },
          "metadata": {
            "tags": []
          },
          "execution_count": 7
        }
      ]
    },
    {
      "cell_type": "code",
      "metadata": {
        "id": "PsayiCSP6czL",
        "colab": {
          "base_uri": "https://localhost:8080/",
          "height": 317
        },
        "outputId": "1d3055f2-33b3-4444-d37e-434bd9eecbe6"
      },
      "source": [
        "df.describe()"
      ],
      "execution_count": 8,
      "outputs": [
        {
          "output_type": "execute_result",
          "data": {
            "text/html": [
              "<div>\n",
              "<style scoped>\n",
              "    .dataframe tbody tr th:only-of-type {\n",
              "        vertical-align: middle;\n",
              "    }\n",
              "\n",
              "    .dataframe tbody tr th {\n",
              "        vertical-align: top;\n",
              "    }\n",
              "\n",
              "    .dataframe thead th {\n",
              "        text-align: right;\n",
              "    }\n",
              "</style>\n",
              "<table border=\"1\" class=\"dataframe\">\n",
              "  <thead>\n",
              "    <tr style=\"text-align: right;\">\n",
              "      <th></th>\n",
              "      <th>AtBat</th>\n",
              "      <th>Hits</th>\n",
              "      <th>HmRun</th>\n",
              "      <th>Runs</th>\n",
              "      <th>RBI</th>\n",
              "      <th>Walks</th>\n",
              "      <th>Years</th>\n",
              "      <th>CAtBat</th>\n",
              "      <th>CHits</th>\n",
              "      <th>CHmRun</th>\n",
              "      <th>CRuns</th>\n",
              "      <th>CRBI</th>\n",
              "      <th>CWalks</th>\n",
              "      <th>League</th>\n",
              "      <th>Division</th>\n",
              "      <th>PutOuts</th>\n",
              "      <th>Assists</th>\n",
              "      <th>Errors</th>\n",
              "      <th>Salary</th>\n",
              "      <th>NewLeague</th>\n",
              "    </tr>\n",
              "  </thead>\n",
              "  <tbody>\n",
              "    <tr>\n",
              "      <th>count</th>\n",
              "      <td>263.000000</td>\n",
              "      <td>263.000000</td>\n",
              "      <td>263.000000</td>\n",
              "      <td>263.000000</td>\n",
              "      <td>263.000000</td>\n",
              "      <td>263.000000</td>\n",
              "      <td>263.000000</td>\n",
              "      <td>263.000000</td>\n",
              "      <td>263.000000</td>\n",
              "      <td>263.000000</td>\n",
              "      <td>263.000000</td>\n",
              "      <td>263.000000</td>\n",
              "      <td>263.000000</td>\n",
              "      <td>263.000000</td>\n",
              "      <td>263.000000</td>\n",
              "      <td>263.000000</td>\n",
              "      <td>263.000000</td>\n",
              "      <td>263.000000</td>\n",
              "      <td>263.000000</td>\n",
              "      <td>263.000000</td>\n",
              "    </tr>\n",
              "    <tr>\n",
              "      <th>mean</th>\n",
              "      <td>403.642586</td>\n",
              "      <td>107.828897</td>\n",
              "      <td>11.619772</td>\n",
              "      <td>54.745247</td>\n",
              "      <td>51.486692</td>\n",
              "      <td>41.114068</td>\n",
              "      <td>7.311787</td>\n",
              "      <td>2657.543726</td>\n",
              "      <td>722.186312</td>\n",
              "      <td>69.239544</td>\n",
              "      <td>361.220532</td>\n",
              "      <td>330.418251</td>\n",
              "      <td>260.266160</td>\n",
              "      <td>0.471483</td>\n",
              "      <td>0.509506</td>\n",
              "      <td>290.711027</td>\n",
              "      <td>118.760456</td>\n",
              "      <td>8.593156</td>\n",
              "      <td>535.925882</td>\n",
              "      <td>0.463878</td>\n",
              "    </tr>\n",
              "    <tr>\n",
              "      <th>std</th>\n",
              "      <td>147.307209</td>\n",
              "      <td>45.125326</td>\n",
              "      <td>8.757108</td>\n",
              "      <td>25.539816</td>\n",
              "      <td>25.882714</td>\n",
              "      <td>21.718056</td>\n",
              "      <td>4.793616</td>\n",
              "      <td>2286.582929</td>\n",
              "      <td>648.199644</td>\n",
              "      <td>82.197581</td>\n",
              "      <td>331.198571</td>\n",
              "      <td>323.367668</td>\n",
              "      <td>264.055868</td>\n",
              "      <td>0.500138</td>\n",
              "      <td>0.500863</td>\n",
              "      <td>279.934575</td>\n",
              "      <td>145.080577</td>\n",
              "      <td>6.606574</td>\n",
              "      <td>451.118681</td>\n",
              "      <td>0.499644</td>\n",
              "    </tr>\n",
              "    <tr>\n",
              "      <th>min</th>\n",
              "      <td>19.000000</td>\n",
              "      <td>1.000000</td>\n",
              "      <td>0.000000</td>\n",
              "      <td>0.000000</td>\n",
              "      <td>0.000000</td>\n",
              "      <td>0.000000</td>\n",
              "      <td>1.000000</td>\n",
              "      <td>19.000000</td>\n",
              "      <td>4.000000</td>\n",
              "      <td>0.000000</td>\n",
              "      <td>2.000000</td>\n",
              "      <td>3.000000</td>\n",
              "      <td>1.000000</td>\n",
              "      <td>0.000000</td>\n",
              "      <td>0.000000</td>\n",
              "      <td>0.000000</td>\n",
              "      <td>0.000000</td>\n",
              "      <td>0.000000</td>\n",
              "      <td>67.500000</td>\n",
              "      <td>0.000000</td>\n",
              "    </tr>\n",
              "    <tr>\n",
              "      <th>25%</th>\n",
              "      <td>282.500000</td>\n",
              "      <td>71.500000</td>\n",
              "      <td>5.000000</td>\n",
              "      <td>33.500000</td>\n",
              "      <td>30.000000</td>\n",
              "      <td>23.000000</td>\n",
              "      <td>4.000000</td>\n",
              "      <td>842.500000</td>\n",
              "      <td>212.000000</td>\n",
              "      <td>15.000000</td>\n",
              "      <td>105.500000</td>\n",
              "      <td>95.000000</td>\n",
              "      <td>71.000000</td>\n",
              "      <td>0.000000</td>\n",
              "      <td>0.000000</td>\n",
              "      <td>113.500000</td>\n",
              "      <td>8.000000</td>\n",
              "      <td>3.000000</td>\n",
              "      <td>190.000000</td>\n",
              "      <td>0.000000</td>\n",
              "    </tr>\n",
              "    <tr>\n",
              "      <th>50%</th>\n",
              "      <td>413.000000</td>\n",
              "      <td>103.000000</td>\n",
              "      <td>9.000000</td>\n",
              "      <td>52.000000</td>\n",
              "      <td>47.000000</td>\n",
              "      <td>37.000000</td>\n",
              "      <td>6.000000</td>\n",
              "      <td>1931.000000</td>\n",
              "      <td>516.000000</td>\n",
              "      <td>40.000000</td>\n",
              "      <td>250.000000</td>\n",
              "      <td>230.000000</td>\n",
              "      <td>174.000000</td>\n",
              "      <td>0.000000</td>\n",
              "      <td>1.000000</td>\n",
              "      <td>224.000000</td>\n",
              "      <td>45.000000</td>\n",
              "      <td>7.000000</td>\n",
              "      <td>425.000000</td>\n",
              "      <td>0.000000</td>\n",
              "    </tr>\n",
              "    <tr>\n",
              "      <th>75%</th>\n",
              "      <td>526.000000</td>\n",
              "      <td>141.500000</td>\n",
              "      <td>18.000000</td>\n",
              "      <td>73.000000</td>\n",
              "      <td>71.000000</td>\n",
              "      <td>57.000000</td>\n",
              "      <td>10.000000</td>\n",
              "      <td>3890.500000</td>\n",
              "      <td>1054.000000</td>\n",
              "      <td>92.500000</td>\n",
              "      <td>497.500000</td>\n",
              "      <td>424.500000</td>\n",
              "      <td>328.500000</td>\n",
              "      <td>1.000000</td>\n",
              "      <td>1.000000</td>\n",
              "      <td>322.500000</td>\n",
              "      <td>192.000000</td>\n",
              "      <td>13.000000</td>\n",
              "      <td>750.000000</td>\n",
              "      <td>1.000000</td>\n",
              "    </tr>\n",
              "    <tr>\n",
              "      <th>max</th>\n",
              "      <td>687.000000</td>\n",
              "      <td>238.000000</td>\n",
              "      <td>40.000000</td>\n",
              "      <td>130.000000</td>\n",
              "      <td>121.000000</td>\n",
              "      <td>105.000000</td>\n",
              "      <td>24.000000</td>\n",
              "      <td>14053.000000</td>\n",
              "      <td>4256.000000</td>\n",
              "      <td>548.000000</td>\n",
              "      <td>2165.000000</td>\n",
              "      <td>1659.000000</td>\n",
              "      <td>1566.000000</td>\n",
              "      <td>1.000000</td>\n",
              "      <td>1.000000</td>\n",
              "      <td>1377.000000</td>\n",
              "      <td>492.000000</td>\n",
              "      <td>32.000000</td>\n",
              "      <td>2460.000000</td>\n",
              "      <td>1.000000</td>\n",
              "    </tr>\n",
              "  </tbody>\n",
              "</table>\n",
              "</div>"
            ],
            "text/plain": [
              "            AtBat        Hits       HmRun  ...      Errors       Salary   NewLeague\n",
              "count  263.000000  263.000000  263.000000  ...  263.000000   263.000000  263.000000\n",
              "mean   403.642586  107.828897   11.619772  ...    8.593156   535.925882    0.463878\n",
              "std    147.307209   45.125326    8.757108  ...    6.606574   451.118681    0.499644\n",
              "min     19.000000    1.000000    0.000000  ...    0.000000    67.500000    0.000000\n",
              "25%    282.500000   71.500000    5.000000  ...    3.000000   190.000000    0.000000\n",
              "50%    413.000000  103.000000    9.000000  ...    7.000000   425.000000    0.000000\n",
              "75%    526.000000  141.500000   18.000000  ...   13.000000   750.000000    1.000000\n",
              "max    687.000000  238.000000   40.000000  ...   32.000000  2460.000000    1.000000\n",
              "\n",
              "[8 rows x 20 columns]"
            ]
          },
          "metadata": {
            "tags": []
          },
          "execution_count": 8
        }
      ]
    },
    {
      "cell_type": "markdown",
      "metadata": {
        "id": "Mo1AM1vbo2tM"
      },
      "source": [
        "\n",
        "\n",
        "> log-transform the salaries\n"
      ]
    },
    {
      "cell_type": "code",
      "metadata": {
        "colab": {
          "base_uri": "https://localhost:8080/"
        },
        "id": "aBK79bkdqFTO",
        "outputId": "71d3482d-4407-4965-8b88-bee13640ec49"
      },
      "source": [
        "df['log_Salary'] = np.log(df['Salary'])\n",
        "print(df)"
      ],
      "execution_count": 11,
      "outputs": [
        {
          "output_type": "stream",
          "text": [
            "                  Name  AtBat  Hits  ...  Salary  NewLeague  log_Salary\n",
            "1          -Alan Ashby    315    81  ...   475.0          1    6.163315\n",
            "2         -Alvin Davis    479   130  ...   480.0          0    6.173786\n",
            "3        -Andre Dawson    496   141  ...   500.0          1    6.214608\n",
            "4    -Andres Galarraga    321    87  ...    91.5          1    4.516339\n",
            "5     -Alfredo Griffin    594   169  ...   750.0          0    6.620073\n",
            "..                 ...    ...   ...  ...     ...        ...         ...\n",
            "317      -Willie McGee    497   127  ...   700.0          1    6.551080\n",
            "318   -Willie Randolph    492   136  ...   875.0          0    6.774224\n",
            "319    -Wayne Tolleson    475   126  ...   385.0          0    5.953243\n",
            "320     -Willie Upshaw    573   144  ...   960.0          0    6.866933\n",
            "321     -Willie Wilson    631   170  ...  1000.0          0    6.907755\n",
            "\n",
            "[263 rows x 22 columns]\n"
          ],
          "name": "stdout"
        }
      ]
    },
    {
      "cell_type": "markdown",
      "metadata": {
        "id": "-U5HJiVagobW"
      },
      "source": [
        "# b. Create a training set consisting of the first 200 observations, and a test set consisting of the remaining observations."
      ]
    },
    {
      "cell_type": "code",
      "metadata": {
        "colab": {
          "base_uri": "https://localhost:8080/"
        },
        "id": "kjwbxgNNsqdn",
        "outputId": "e16063c1-4e50-48c0-afaa-c9970083eb0f"
      },
      "source": [
        "Training_set = df.iloc[0:200, :]\n",
        "Test_set = df.iloc[200:, :]\n",
        "print(Training_set)\n",
        "print(Test_set)"
      ],
      "execution_count": 12,
      "outputs": [
        {
          "output_type": "stream",
          "text": [
            "                  Name  AtBat  Hits  ...  Salary  NewLeague  log_Salary\n",
            "1          -Alan Ashby    315    81  ...   475.0          1    6.163315\n",
            "2         -Alvin Davis    479   130  ...   480.0          0    6.173786\n",
            "3        -Andre Dawson    496   141  ...   500.0          1    6.214608\n",
            "4    -Andres Galarraga    321    87  ...    91.5          1    4.516339\n",
            "5     -Alfredo Griffin    594   169  ...   750.0          0    6.620073\n",
            "..                 ...    ...   ...  ...     ...        ...         ...\n",
            "243           -Ron Cey    256    70  ...  1050.0          0    6.956545\n",
            "244          -Rob Deer    466   108  ...   215.0          0    5.370638\n",
            "245      -Rick Dempsey    327    68  ...   400.0          0    5.991465\n",
            "247        -Ron Hassey    341   110  ...   560.0          0    6.327937\n",
            "248  -Rickey Henderson    608   160  ...  1670.0          0    7.420579\n",
            "\n",
            "[200 rows x 22 columns]\n",
            "                 Name  AtBat  Hits  ...  Salary  NewLeague  log_Salary\n",
            "249   -Reggie Jackson    419   101  ...   487.5          0    6.189290\n",
            "251       -Ron Kittle    376    82  ...   425.0          0    6.052089\n",
            "252       -Ray Knight    486   145  ...   500.0          0    6.214608\n",
            "255       -Rick Leach    246    76  ...   250.0          0    5.521461\n",
            "256     -Rick Manning    205    52  ...   400.0          0    5.991465\n",
            "..                ...    ...   ...  ...     ...        ...         ...\n",
            "317     -Willie McGee    497   127  ...   700.0          1    6.551080\n",
            "318  -Willie Randolph    492   136  ...   875.0          0    6.774224\n",
            "319   -Wayne Tolleson    475   126  ...   385.0          0    5.953243\n",
            "320    -Willie Upshaw    573   144  ...   960.0          0    6.866933\n",
            "321    -Willie Wilson    631   170  ...  1000.0          0    6.907755\n",
            "\n",
            "[63 rows x 22 columns]\n"
          ],
          "name": "stdout"
        }
      ]
    },
    {
      "cell_type": "markdown",
      "metadata": {
        "id": "QbMue2Idgoly"
      },
      "source": [
        "# c. Perform boosting on the training set with 1,000 trees for a range of values of the shrinkage parameter λ. Produce a plot with different shrinkage values on the x-axis and the corresponding training set MSE on the y-axis.\n",
        "# d. Produce a plot with different shrinkage values on the x-axis and the corresponding test set MSE on the y-axis."
      ]
    },
    {
      "cell_type": "markdown",
      "metadata": {
        "id": "VZVDjUIkNR4K"
      },
      "source": [
        "\n",
        "> Boosting (1000 trees with varying shrinkage)\n",
        "\n"
      ]
    },
    {
      "cell_type": "code",
      "metadata": {
        "id": "PUzEvCyCG3-K"
      },
      "source": [
        "def boosting_shrinkage(X_train, Y_train, X_test, Y_test, shrinkages):\n",
        "    train_MSE = {}\n",
        "    test_MSE = {}\n",
        "    for s in shrinkages:\n",
        "        clf = GradientBoostingRegressor(random_state=0, n_estimators=1000, learning_rate=s)\n",
        "        clf.fit(X_train, Y_train)\n",
        "        p = clf.predict(X_train)\n",
        "        train_MSE[s] = mean_squared_error(p, Y_train)\n",
        "        p = clf.predict(X_test)\n",
        "        test_MSE[s] = mean_squared_error(p, Y_test)\n",
        "    return (train_MSE, test_MSE)\n",
        "\n",
        "X_train = Training_set.drop(['Name', 'Salary', 'log_Salary'], axis=1)\n",
        "y_train = Training_set[['log_Salary']]\n",
        "X_test = Test_set.drop(['Name', 'Salary', 'log_Salary'], axis=1)\n",
        "y_test = Test_set[['log_Salary']]\n",
        "\n",
        "res = boosting_shrinkage(X_train, y_train.values.ravel(), X_test, y_test.values.ravel(),\n",
        "                               np.linspace(0.001, 0.5, 100))"
      ],
      "execution_count": 13,
      "outputs": []
    },
    {
      "cell_type": "markdown",
      "metadata": {
        "id": "pYQzUdOwNvGY"
      },
      "source": [
        "\n",
        "\n",
        "> Plot (c., d. together)\n",
        "\n"
      ]
    },
    {
      "cell_type": "code",
      "metadata": {
        "colab": {
          "base_uri": "https://localhost:8080/",
          "height": 513
        },
        "id": "jP980n4DNuQL",
        "outputId": "8edebcf6-8fb8-4711-b88a-555a558f46a0"
      },
      "source": [
        "fig = plt.figure(figsize=(15,8))\n",
        "\n",
        "ax = fig.add_subplot(121)\n",
        "lists = sorted(res[0].items())\n",
        "x, y = zip(*lists)\n",
        "plt.plot(x, y, color='r', label='Training Error')\n",
        "\n",
        "ax.set_xlabel('Shrinkage (Learning Rate)')\n",
        "ax.set_ylabel('Train MSE')\n",
        "ax.set_title('Train MSE vs Shrinkage (Learning Rate)')\n",
        "ax.grid()\n",
        "\n",
        "ax = fig.add_subplot(122)\n",
        "lists = sorted(res[1].items())\n",
        "x, y = zip(*lists)\n",
        "plt.plot(x, y, color='g', label='Test Error')\n",
        "\n",
        "ax.set_xlabel('Shrinkage (Learning Rate)')\n",
        "ax.set_ylabel('Test MSE')\n",
        "ax.set_title('Test MSE vs Shrinkage (Learning Rate)')\n",
        "ax.grid()\n",
        "\n",
        "plt.grid(b=True)\n",
        "plt.show()"
      ],
      "execution_count": 14,
      "outputs": [
        {
          "output_type": "display_data",
          "data": {
            "image/png": "[encoded data removed]",
            "text/plain": [
              "<Figure size 1080x576 with 2 Axes>"
            ]
          },
          "metadata": {
            "tags": [],
            "needs_background": "light"
          }
        }
      ]
    },
    {
      "cell_type": "markdown",
      "metadata": {
        "id": "1_cCGHdJgo6Y"
      },
      "source": [
        "# e. Compare the test MSE of boosting to the test MSE that results from applying two of the regression approaches seen in Chapters 3 and 6."
      ]
    },
    {
      "cell_type": "markdown",
      "metadata": {
        "id": "8VhrBdcZRHQE"
      },
      "source": [
        "Here I choose the linear model and regularization model (Lasso) to compare with boosting."
      ]
    },
    {
      "cell_type": "markdown",
      "metadata": {
        "id": "9My3ZBL3Sp-7"
      },
      "source": [
        "\n",
        "\n",
        "> Boosting\n",
        "\n"
      ]
    },
    {
      "cell_type": "code",
      "metadata": {
        "colab": {
          "base_uri": "https://localhost:8080/"
        },
        "id": "b2AG8VmASr5j",
        "outputId": "5679e9b5-9f85-4f10-d72c-dfa0c1e7a8f1"
      },
      "source": [
        "parameters = {'learning_rate': np.linspace(0.001, 0.5, 20), 'n_estimators': np.arange(1, 40, 2)}\n",
        "# parameters = {'learning_rate': np.linspace(0.001, 0.5, 20), 'n_estimators': np.arange(100, 1000, 10)}\n",
        "clf = GridSearchCV(ensemble.GradientBoostingRegressor(random_state=0), parameters, n_jobs=4, cv=10)\n",
        "clf.fit(X=X_train, y=y_train.values.ravel())\n",
        "tree_model = clf.best_estimator_\n",
        "print (clf.best_score_, clf.best_params_)"
      ],
      "execution_count": 15,
      "outputs": [
        {
          "output_type": "stream",
          "text": [
            "0.7156560970841344 {'learning_rate': 0.15857894736842104, 'n_estimators': 15}\n"
          ],
          "name": "stdout"
        }
      ]
    },
    {
      "cell_type": "markdown",
      "metadata": {
        "id": "cOR7_qGBV92b"
      },
      "source": [
        "We can see that the best boosted model is the one with learning rate of 0.1586 and uses 15 trees. "
      ]
    },
    {
      "cell_type": "code",
      "metadata": {
        "colab": {
          "base_uri": "https://localhost:8080/"
        },
        "id": "mD2ul-nKUN9y",
        "outputId": "18b9572f-de18-47a6-a8a8-f51beb681f93"
      },
      "source": [
        "y_pred1 = tree_model.predict(X_test)\n",
        "print(\"Test MSE of Boosting: \", mean_squared_error(y_pred1, y_test))"
      ],
      "execution_count": 16,
      "outputs": [
        {
          "output_type": "stream",
          "text": [
            "Test MSE of Boosting:  0.21640274598049566\n"
          ],
          "name": "stdout"
        }
      ]
    },
    {
      "cell_type": "markdown",
      "metadata": {
        "id": "VvQDdbv2jz6k"
      },
      "source": [
        "> Linear model\n",
        "\n"
      ]
    },
    {
      "cell_type": "code",
      "metadata": {
        "id": "pLWJ7jZ2BVwR",
        "colab": {
          "base_uri": "https://localhost:8080/"
        },
        "outputId": "fe86882d-07cc-4066-8301-b24a5fcf125a"
      },
      "source": [
        "regressor = LinearRegression()\n",
        "model_linear = regressor.fit(X_train, y_train)\n",
        "y_pred = regressor.predict(X_test)\n",
        "r_sq = regressor.score(X_train, y_train)\n",
        "print('coefficient of determination:', r_sq)\n",
        "print('intercept:', regressor.intercept_)\n",
        "print('slope:', regressor.coef_)"
      ],
      "execution_count": 17,
      "outputs": [
        {
          "output_type": "stream",
          "text": [
            "coefficient of determination: 0.6149418244386136\n",
            "intercept: [4.45317794]\n",
            "slope: [[-4.15113750e-03  1.89963794e-02  9.44262464e-03 -2.99605926e-03\n",
            "  -2.60303603e-03  1.13452449e-02  6.86664311e-02  1.47864378e-04\n",
            "  -1.20854106e-03  4.08525317e-04  2.52677750e-03  3.62488858e-04\n",
            "  -1.61406640e-03  1.48796578e-01 -1.35939807e-01  5.63114332e-04\n",
            "   8.93621525e-04 -9.94967408e-03 -3.15309469e-02]]\n"
          ],
          "name": "stdout"
        }
      ]
    },
    {
      "cell_type": "code",
      "metadata": {
        "colab": {
          "base_uri": "https://localhost:8080/"
        },
        "id": "T7SdVgaIPJaz",
        "outputId": "86bca0fa-de17-41e6-eb61-5eb29c942e3e"
      },
      "source": [
        "y_pred2 = model_linear.predict(X_test)\n",
        "print('Test MSE of Linear Regression Model:', metrics.mean_squared_error(y_test, y_pred2))"
      ],
      "execution_count": 18,
      "outputs": [
        {
          "output_type": "stream",
          "text": [
            "Test MSE of Linear Regression Model: 0.49179593754549367\n"
          ],
          "name": "stdout"
        }
      ]
    },
    {
      "cell_type": "markdown",
      "metadata": {
        "id": "EQb2Pv7ighZN"
      },
      "source": [
        "> Lasso model"
      ]
    },
    {
      "cell_type": "code",
      "metadata": {
        "id": "1HVp7SF_peX7",
        "colab": {
          "base_uri": "https://localhost:8080/"
        },
        "outputId": "aef11e21-f2a4-49a9-9fd4-0328b40c1636"
      },
      "source": [
        "# perform 10-fold cross-validation to choose the best lambda (alpha)\n",
        "lassocv = LassoCV(alphas = None, cv = 10, max_iter = 100000, normalize = True)\n",
        "lassocv.fit(X_train, y_train)\n",
        "\n",
        "print('Intercept is ', lassocv.intercept_)\n",
        "print('Coef are ', lassocv.coef_)\n",
        "print('Lambda is ', lassocv.alpha_)"
      ],
      "execution_count": 19,
      "outputs": [
        {
          "output_type": "stream",
          "text": [
            "/usr/local/lib/python3.7/dist-packages/sklearn/linear_model/_coordinate_descent.py:1088: DataConversionWarning: A column-vector y was passed when a 1d array was expected. Please change the shape of y to (n_samples, ), for example using ravel().\n",
            "  y = column_or_1d(y, warn=True)\n"
          ],
          "name": "stderr"
        },
        {
          "output_type": "stream",
          "text": [
            "Intercept is  4.410340213473163\n",
            "Coef are  [-0.00200676  0.01140031  0.00099862  0.00103039 -0.          0.00700314\n",
            "  0.06048304  0.          0.          0.00133516  0.00069333  0.\n",
            " -0.00058412  0.10631244 -0.14398887  0.00047716  0.000637   -0.00835246\n",
            " -0.        ]\n",
            "Lambda is  0.00038130639604907216\n"
          ],
          "name": "stdout"
        }
      ]
    },
    {
      "cell_type": "code",
      "metadata": {
        "id": "u1t4HRgDrLEx"
      },
      "source": [
        "# fit the model using the lambda\n",
        "lasso = Lasso(alpha = lassocv.alpha_, normalize = True)\n",
        "model_Lasso = lasso.fit(X_train, y_train)"
      ],
      "execution_count": 20,
      "outputs": []
    },
    {
      "cell_type": "code",
      "metadata": {
        "id": "XxoyGCGFqcC1",
        "colab": {
          "base_uri": "https://localhost:8080/"
        },
        "outputId": "dbd229d2-0d9f-4c64-dadc-62d249c3d989"
      },
      "source": [
        "y_pred3 = model_Lasso.predict(X_test)\n",
        "print('Test MSE of Lasso model:', metrics.mean_squared_error(y_test, y_pred3))"
      ],
      "execution_count": 21,
      "outputs": [
        {
          "output_type": "stream",
          "text": [
            "Test MSE of Lasso model: 0.46868356354602325\n"
          ],
          "name": "stdout"
        }
      ]
    },
    {
      "cell_type": "markdown",
      "metadata": {
        "id": "C6CwFSKkU8rp"
      },
      "source": [
        "We find that other regression approaches we chose (linear and Lasso) have sgnificantly larger test MSE than Boosting. Thus the improvement in the test MSE for Boosting over the other regression approaches appears to be quite large."
      ]
    },
    {
      "cell_type": "markdown",
      "metadata": {
        "id": "dH5vRfdSgo_T"
      },
      "source": [
        "# f. Which variables appear to be the most important predictors in the boosted model?"
      ]
    },
    {
      "cell_type": "markdown",
      "metadata": {
        "id": "v7gjo_Z3Mj7P"
      },
      "source": [
        "From e. we know that the best boosted model is the one with learning rate of 0.1586 and uses 15 trees. The bar graph showing the importance of various features in the model is shown below."
      ]
    },
    {
      "cell_type": "code",
      "metadata": {
        "colab": {
          "base_uri": "https://localhost:8080/",
          "height": 601
        },
        "id": "iCrEUutkdf5z",
        "outputId": "c4508d0c-2a25-40c1-9d2b-b1d3554b1263"
      },
      "source": [
        "feature_importances = tree_model.feature_importances_\n",
        "\n",
        "fig = plt.figure(figsize=(15,8))\n",
        "ax = fig.add_subplot(111)\n",
        "\n",
        "plt.bar(X_train.columns.tolist(), feature_importances, alpha=0.3)\n",
        "\n",
        "ax.set_xlabel('Feature')\n",
        "ax.set_ylabel('Importance')\n",
        "plt.tight_layout()\n",
        "plt.title(\"Importance of Features\")\n",
        "plt.grid()\n",
        "plt.show()"
      ],
      "execution_count": 22,
      "outputs": [
        {
          "output_type": "display_data",
          "data": {
            "image/png": "[encoded data removed]",
            "text/plain": [
              "<Figure size 1080x576 with 1 Axes>"
            ]
          },
          "metadata": {
            "tags": [],
            "needs_background": "light"
          }
        }
      ]
    },
    {
      "cell_type": "markdown",
      "metadata": {
        "id": "sqX2lpiadwMw"
      },
      "source": [
        "We can see from the variable importance ranking that “CAtBat = Number of times at bat during his career” is the most important variable in the model by some margin. After that, CHits, CRuns, Walks and AtBat are all of similar importance. The most important variables are all ‘career’ variables."
      ]
    },
    {
      "cell_type": "code",
      "metadata": {
        "id": "IqzxJ7SefO-I"
      },
      "source": [
        "# feature_importances = tree_model.feature_importances_\n",
        "# importance = pd.DataFrame({'Feature': 'AtBat', 'Importance': [tree_model.feature_importances_]})\n",
        "# tree_df = importance.append(pd.DataFrame({'Feature': X_train.columns, 'importance': tree_model.feature_importances_}), ignore_index = True)\n",
        "# # intercept = pd.DataFrame({'feature': 'Intercept', 'coefficient': [model_Lasso.intercept_]})\n",
        "# # lasso_df  = intercept.append(pd.DataFrame({'feature': X.columns, 'coefficient': model_Lasso.coef_}), ignore_index = True)\n",
        "# # ax = sns.barplot(x = 'coefficient', y = 'feature', data = lasso_df)\n",
        "# display(tree_df)"
      ],
      "execution_count": 23,
      "outputs": []
    },
    {
      "cell_type": "markdown",
      "metadata": {
        "id": "_6bdAn_phINY"
      },
      "source": [
        "# g. Now apply bagging to the training set. What is the test set MSE for this approach?"
      ]
    },
    {
      "cell_type": "code",
      "metadata": {
        "colab": {
          "base_uri": "https://localhost:8080/"
        },
        "id": "V_c26BkUNvch",
        "outputId": "4343907b-cb10-437f-9454-ae0dc8878369"
      },
      "source": [
        "bagging = BaggingRegressor(random_state=0)\n",
        "bagging.fit(X=X_train, y=y_train.values.ravel())\n",
        "y_pred5 = bagging.predict(X_test)\n",
        "print(\"Test MSE of Bagging: \", mean_squared_error(y_pred5, y_test))"
      ],
      "execution_count": 33,
      "outputs": [
        {
          "output_type": "stream",
          "text": [
            "Test MSE is:  0.25657647011895646\n"
          ],
          "name": "stdout"
        }
      ]
    },
    {
      "cell_type": "markdown",
      "metadata": {
        "id": "LD-dbGh2QZfA"
      },
      "source": [
        "Also, since bagging is simply a special case of a random forest with  m=p, the RandomForestRegressor() function can be used to perform both random forests and bagging."
      ]
    },
    {
      "cell_type": "code",
      "metadata": {
        "colab": {
          "base_uri": "https://localhost:8080/"
        },
        "id": "_M5ZsU8LPrni",
        "outputId": "22e7dd27-951c-476c-eea0-56b377494af0"
      },
      "source": [
        "# Bagging: using all features\n",
        "bagged = RandomForestRegressor(max_features=19, random_state=0)\n",
        "bagged.fit(X_train, y_train)\n",
        "y_pred4 = bagged.predict(X_test)\n",
        "\n",
        "print(\"Test MSE of Bagging: \", mean_squared_error(y_test, y_pred4))"
      ],
      "execution_count": 35,
      "outputs": [
        {
          "output_type": "stream",
          "text": [
            "/usr/local/lib/python3.7/dist-packages/ipykernel_launcher.py:3: DataConversionWarning: A column-vector y was passed when a 1d array was expected. Please change the shape of y to (n_samples,), for example using ravel().\n",
            "  This is separate from the ipykernel package so we can avoid doing imports until\n"
          ],
          "name": "stderr"
        },
        {
          "output_type": "stream",
          "text": [
            "Test MSE of Bagging:  0.23756385232757324\n"
          ],
          "name": "stdout"
        }
      ]
    }
  ]
}