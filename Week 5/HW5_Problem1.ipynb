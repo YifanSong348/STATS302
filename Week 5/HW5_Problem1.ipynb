{
  "nbformat": 4,
  "nbformat_minor": 0,
  "metadata": {
    "colab": {
      "name": "HW5 Problem1.ipynb",
      "provenance": [],
      "collapsed_sections": [],
      "authorship_tag": "ABX9TyO+Ot23PjV204Et/8hmPJVc",
      "include_colab_link": true
    },
    "kernelspec": {
      "name": "python3",
      "display_name": "Python 3"
    },
    "language_info": {
      "name": "python"
    }
  },
  "cells": [
    {
      "cell_type": "markdown",
      "metadata": {
        "id": "view-in-github",
        "colab_type": "text"
      },
      "source": [
        "<a href=\"https://colab.research.google.com/github/YifanSong348/STATS302/blob/main/Week%205/HW5_Problem1.ipynb\" target=\"_parent\"><img src=\"https://colab.research.google.com/assets/colab-badge.svg\" alt=\"Open In Colab\"/></a>"
      ]
    },
    {
      "cell_type": "code",
      "metadata": {
        "id": "qP-vuXY_CXMC"
      },
      "source": [
        "import pandas as pd\n",
        "import numpy as np\n",
        "from sklearn.preprocessing import StandardScaler\n",
        "from matplotlib import*\n",
        "import matplotlib.pyplot as plt\n",
        "from matplotlib.cm import register_cmap\n",
        "from scipy import stats\n",
        "from sklearn.decomposition import PCA as sklearnPCA\n",
        "import seaborn"
      ],
      "execution_count": null,
      "outputs": []
    },
    {
      "cell_type": "code",
      "metadata": {
        "colab": {
          "base_uri": "https://localhost:8080/"
        },
        "id": "nphlN-rVD2Vs",
        "outputId": "64eaa69b-a03e-496a-d062-046784a8c6ab"
      },
      "source": [
        "R = int(input(\"Enter the number of rows:\"))\n",
        "C = int(input(\"Enter the number of columns:\"))\n",
        "  \n",
        "  \n",
        "print(\"Enter the entries in a single line (separated by space): \")\n",
        "  \n",
        "# User input of entries in a \n",
        "# single line separated by space\n",
        "entries = list(map(int, input().split()))\n",
        "  \n",
        "# For printing the matrix\n",
        "matrix = np.array(entries).reshape(R, C)\n",
        "print(matrix)"
      ],
      "execution_count": null,
      "outputs": [
        {
          "output_type": "stream",
          "text": [
            "Enter the number of rows:4\n",
            "Enter the number of columns:3\n",
            "Enter the entries in a single line (separated by space): \n",
            "0 1 2 -1 3 4 0 0 1 2 3 -2\n",
            "[[ 0  1  2]\n",
            " [-1  3  4]\n",
            " [ 0  0  1]\n",
            " [ 2  3 -2]]\n"
          ],
          "name": "stdout"
        }
      ]
    },
    {
      "cell_type": "code",
      "metadata": {
        "colab": {
          "base_uri": "https://localhost:8080/"
        },
        "id": "ViSPVcJPC5RZ",
        "outputId": "cc953b7d-07c3-461a-80df-602556c284de"
      },
      "source": [
        "X = matrix\n",
        "# mean Centering the data  \n",
        "X_meaned = X - np.mean(X , axis = 0)\n",
        "print(X_meaned)"
      ],
      "execution_count": null,
      "outputs": [
        {
          "output_type": "stream",
          "text": [
            "[[-0.25 -0.75  0.75]\n",
            " [-1.25  1.25  2.75]\n",
            " [-0.25 -1.75 -0.25]\n",
            " [ 1.75  1.25 -3.25]]\n"
          ],
          "name": "stdout"
        }
      ]
    },
    {
      "cell_type": "code",
      "metadata": {
        "colab": {
          "base_uri": "https://localhost:8080/"
        },
        "id": "7KsGovBAE2iW",
        "outputId": "ce3eee15-f7db-404a-cccf-aee5eee50eb3"
      },
      "source": [
        "# calculating the covariance matrix of the mean-centered data.\n",
        "cov_mat = np.cov(X_meaned , rowvar = False)\n",
        "print(cov_mat)"
      ],
      "execution_count": null,
      "outputs": [
        {
          "output_type": "stream",
          "text": [
            "[[ 1.58333333  0.41666667 -3.08333333]\n",
            " [ 0.41666667  2.25       -0.25      ]\n",
            " [-3.08333333 -0.25        6.25      ]]\n"
          ],
          "name": "stdout"
        }
      ]
    },
    {
      "cell_type": "code",
      "metadata": {
        "colab": {
          "base_uri": "https://localhost:8080/"
        },
        "id": "H9isFgX6E99v",
        "outputId": "3bc43a9b-dda1-47e6-ec1f-6a1520027de7"
      },
      "source": [
        "#Calculating Eigenvalues and Eigenvectors of the covariance matrix\n",
        "eigen_values , eigen_vectors = np.linalg.eigh(cov_mat)\n",
        "print(\"values\", eigen_values)\n",
        "print(\"vectors\", eigen_vectors)"
      ],
      "execution_count": null,
      "outputs": [
        {
          "output_type": "stream",
          "text": [
            "values [0.01895337 2.25083921 7.81354076]\n",
            "vectors [[ 0.89191571  0.07283149 -0.44629805]\n",
            " [-0.11764615  0.9903318  -0.07350045]\n",
            " [ 0.43663     0.11806145  0.89186083]]\n"
          ],
          "name": "stdout"
        }
      ]
    },
    {
      "cell_type": "code",
      "metadata": {
        "colab": {
          "base_uri": "https://localhost:8080/"
        },
        "id": "koaeFyBrFaI_",
        "outputId": "6062074f-6c0b-4a5a-c45b-ddd909e1290b"
      },
      "source": [
        "#sort the eigenvalues in descending order\n",
        "sorted_index = np.argsort(eigen_values)[::-1]\n",
        " \n",
        "sorted_eigenvalue = eigen_values[sorted_index]\n",
        "#similarly sort the eigenvectors \n",
        "sorted_eigenvectors = eigen_vectors[:,sorted_index]\n",
        "print(sorted_eigenvalue)\n",
        "print(sorted_eigenvectors)"
      ],
      "execution_count": null,
      "outputs": [
        {
          "output_type": "stream",
          "text": [
            "[7.81354076 2.25083921 0.01895337]\n",
            "[[-0.44629805  0.07283149  0.89191571]\n",
            " [-0.07350045  0.9903318  -0.11764615]\n",
            " [ 0.89186083  0.11806145  0.43663   ]]\n"
          ],
          "name": "stdout"
        }
      ]
    },
    {
      "cell_type": "code",
      "metadata": {
        "colab": {
          "base_uri": "https://localhost:8080/"
        },
        "id": "l4gT7zoDFtCL",
        "outputId": "0c8b7547-6610-4caf-b7e4-30185185b531"
      },
      "source": [
        "# select the first n eigenvectors, n is desired dimension\n",
        "# of our final reduced data.\n",
        " \n",
        "n_components = 2 #you can select any number of components.\n",
        "eigenvector_subset = sorted_eigenvectors[:,0:n_components]\n",
        "print(eigenvector_subset)"
      ],
      "execution_count": null,
      "outputs": [
        {
          "output_type": "stream",
          "text": [
            "[[-0.44629805  0.07283149]\n",
            " [-0.07350045  0.9903318 ]\n",
            " [ 0.89186083  0.11806145]]\n"
          ],
          "name": "stdout"
        }
      ]
    },
    {
      "cell_type": "code",
      "metadata": {
        "colab": {
          "base_uri": "https://localhost:8080/"
        },
        "id": "-INF4ZSoF5rX",
        "outputId": "78872b2d-cc65-47f4-b57d-45fa169c280d"
      },
      "source": [
        "#Transform the data \n",
        "X2 = np.dot(sorted_eigenvectors.transpose(),X_meaned.transpose()).transpose()\n",
        "X_reduced = np.dot(eigenvector_subset.transpose(),X_meaned.transpose()).transpose()\n",
        "print(X_reduced)\n",
        "print(X2)"
      ],
      "execution_count": null,
      "outputs": [
        {
          "output_type": "stream",
          "text": [
            "[[ 0.83559547 -0.67241063]\n",
            " [ 2.91861428  1.47154436]\n",
            " [ 0.01723509 -1.78080388]\n",
            " [-3.77144483  0.98167015]]\n",
            "[[ 0.83559547 -0.67241063  0.19272819]\n",
            " [ 2.91861428  1.47154436 -0.06121982]\n",
            " [ 0.01723509 -1.78080388 -0.12625567]\n",
            " [-3.77144483  0.98167015 -0.0052527 ]]\n"
          ],
          "name": "stdout"
        }
      ]
    }
  ]
}